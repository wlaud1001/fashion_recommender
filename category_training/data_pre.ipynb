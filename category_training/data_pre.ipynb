{
 "cells": [
  {
   "cell_type": "code",
   "execution_count": 5,
   "metadata": {},
   "outputs": [],
   "source": [
    "import os \n",
    "from tqdm import tqdm"
   ]
  },
  {
   "cell_type": "code",
   "execution_count": 6,
   "metadata": {},
   "outputs": [],
   "source": [
    "img_path = './google-images-download-master/images/'"
   ]
  },
  {
   "cell_type": "code",
   "execution_count": 13,
   "metadata": {},
   "outputs": [
    {
     "name": "stdout",
     "output_type": "stream",
     "text": [
      "1.%EB%AF%B8%EB%93%9C%EB%82%98%EC%9E%87-500.jpg\n"
     ]
    }
   ],
   "source": [
    "img_bbox = {}\n",
    "\n",
    "try:\n",
    "    img_list = os.listdir(img_path)\n",
    "except Exception:\n",
    "    print('get_bbox() error')\n",
    "\n",
    "    \n",
    "for i, name in enumerate(img_list):\n",
    "    new = str(format(i+1, '06'))+'.jpg'\n",
    "    out_path = './train/check/'\n",
    "    os.rename(img_path+name, out_path+new)\n",
    "    \n",
    "    \n",
    "print(img_list[0])"
   ]
  },
  {
   "cell_type": "code",
   "execution_count": 4,
   "metadata": {},
   "outputs": [
    {
     "name": "stdout",
     "output_type": "stream",
     "text": [
      "000003\n"
     ]
    }
   ],
   "source": [
    "a=3\n",
    "print(str(format(3, '06')))"
   ]
  },
  {
   "cell_type": "code",
   "execution_count": null,
   "metadata": {},
   "outputs": [],
   "source": []
  }
 ],
 "metadata": {
  "kernelspec": {
   "display_name": "Python 3",
   "language": "python",
   "name": "python3"
  },
  "language_info": {
   "codemirror_mode": {
    "name": "ipython",
    "version": 3
   },
   "file_extension": ".py",
   "mimetype": "text/x-python",
   "name": "python",
   "nbconvert_exporter": "python",
   "pygments_lexer": "ipython3",
   "version": "3.7.4"
  }
 },
 "nbformat": 4,
 "nbformat_minor": 2
}
